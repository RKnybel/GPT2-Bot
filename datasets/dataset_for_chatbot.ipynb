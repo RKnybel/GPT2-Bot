{
 "cells": [
  {
   "cell_type": "code",
   "execution_count": 1,
   "id": "6684e341-21ae-4c05-bab4-d21e1565675b",
   "metadata": {},
   "outputs": [],
   "source": [
    "# Chatbot dataset processing\n",
    "\n",
    "input_file_path = \"dialogs.txt\"  # Path to your input file\n",
    "output_file_path = \"dialogs_processed.txt\"  # Path to the output file\n",
    "\n",
    "with open(input_file_path, \"r\") as input_file, open(output_file_path, \"w\") as output_file:\n",
    "    for line in input_file:\n",
    "        modified_line = \"User: \" + line.split(\"\\t\")[0] + \"\\nBot: \" + line.split(\"\\t\")[1]    # Add the prefix text to each line\n",
    "        output_file.write(modified_line)  # Write the modified line to the output file\n"
   ]
  }
 ],
 "metadata": {
  "kernelspec": {
   "display_name": "Python 3 (ipykernel)",
   "language": "python",
   "name": "python3"
  },
  "language_info": {
   "codemirror_mode": {
    "name": "ipython",
    "version": 3
   },
   "file_extension": ".py",
   "mimetype": "text/x-python",
   "name": "python",
   "nbconvert_exporter": "python",
   "pygments_lexer": "ipython3",
   "version": "3.10.14"
  }
 },
 "nbformat": 4,
 "nbformat_minor": 5
}
